{
  "cells": [
    {
      "cell_type": "code",
      "execution_count": null,
      "metadata": {
        "colab": {
          "base_uri": "https://localhost:8080/"
        },
        "id": "98gT80PKefgy",
        "outputId": "d1ca59c2-be0f-4de8-a215-b6d8345f4e68"
      },
      "outputs": [
        {
          "output_type": "stream",
          "name": "stdout",
          "text": [
            "Collecting liac-arff\n",
            "  Downloading liac-arff-2.5.0.tar.gz (13 kB)\n",
            "  Preparing metadata (setup.py) ... \u001b[?25l\u001b[?25hdone\n",
            "Requirement already satisfied: joblib in /usr/local/lib/python3.11/dist-packages (1.4.2)\n",
            "Building wheels for collected packages: liac-arff\n",
            "  Building wheel for liac-arff (setup.py) ... \u001b[?25l\u001b[?25hdone\n",
            "  Created wheel for liac-arff: filename=liac_arff-2.5.0-py3-none-any.whl size=11717 sha256=c5e0ac1877bc584c241f71504c5cca1e5d5e9b3da896ae22b6d72ad3f2be7f04\n",
            "  Stored in directory: /root/.cache/pip/wheels/00/23/31/5e562fce1f95aabe57f2a7320d07433ba1cd152bcde2f6a002\n",
            "Successfully built liac-arff\n",
            "Installing collected packages: liac-arff\n",
            "Successfully installed liac-arff-2.5.0\n"
          ]
        }
      ],
      "source": [
        "!pip install liac-arff joblib\n"
      ]
    },
    {
      "cell_type": "code",
      "execution_count": null,
      "metadata": {
        "id": "gIpVBqJ1euq1"
      },
      "outputs": [],
      "source": [
        "import urllib.request\n",
        "import arff\n",
        "import pandas as pd\n",
        "import numpy as np\n",
        "import joblib\n",
        "from sklearn.preprocessing import StandardScaler\n",
        "from sklearn.model_selection import train_test_split\n",
        "from tensorflow import keras\n",
        "from tensorflow.keras.layers import Dense, Dropout, BatchNormalization, Input\n",
        "from tensorflow.keras import regularizers\n",
        "from tensorflow.keras.callbacks import EarlyStopping, ReduceLROnPlateau\n",
        "from sklearn.metrics import accuracy_score, precision_score, recall_score, f1_score\n",
        "import matplotlib.pyplot as plt\n"
      ]
    },
    {
      "cell_type": "code",
      "execution_count": null,
      "metadata": {
        "colab": {
          "base_uri": "https://localhost:8080/",
          "height": 111
        },
        "id": "sO30a9QdfrGF",
        "outputId": "71ec370b-2c36-46f6-960a-9661aa9f8509"
      },
      "outputs": [
        {
          "output_type": "display_data",
          "data": {
            "text/plain": [
              "<IPython.core.display.HTML object>"
            ],
            "text/html": [
              "\n",
              "     <input type=\"file\" id=\"files-ddacdef6-9272-44e4-bc70-008c10d56eed\" name=\"files[]\" multiple disabled\n",
              "        style=\"border:none\" />\n",
              "     <output id=\"result-ddacdef6-9272-44e4-bc70-008c10d56eed\">\n",
              "      Upload widget is only available when the cell has been executed in the\n",
              "      current browser session. Please rerun this cell to enable.\n",
              "      </output>\n",
              "      <script>// Copyright 2017 Google LLC\n",
              "//\n",
              "// Licensed under the Apache License, Version 2.0 (the \"License\");\n",
              "// you may not use this file except in compliance with the License.\n",
              "// You may obtain a copy of the License at\n",
              "//\n",
              "//      http://www.apache.org/licenses/LICENSE-2.0\n",
              "//\n",
              "// Unless required by applicable law or agreed to in writing, software\n",
              "// distributed under the License is distributed on an \"AS IS\" BASIS,\n",
              "// WITHOUT WARRANTIES OR CONDITIONS OF ANY KIND, either express or implied.\n",
              "// See the License for the specific language governing permissions and\n",
              "// limitations under the License.\n",
              "\n",
              "/**\n",
              " * @fileoverview Helpers for google.colab Python module.\n",
              " */\n",
              "(function(scope) {\n",
              "function span(text, styleAttributes = {}) {\n",
              "  const element = document.createElement('span');\n",
              "  element.textContent = text;\n",
              "  for (const key of Object.keys(styleAttributes)) {\n",
              "    element.style[key] = styleAttributes[key];\n",
              "  }\n",
              "  return element;\n",
              "}\n",
              "\n",
              "// Max number of bytes which will be uploaded at a time.\n",
              "const MAX_PAYLOAD_SIZE = 100 * 1024;\n",
              "\n",
              "function _uploadFiles(inputId, outputId) {\n",
              "  const steps = uploadFilesStep(inputId, outputId);\n",
              "  const outputElement = document.getElementById(outputId);\n",
              "  // Cache steps on the outputElement to make it available for the next call\n",
              "  // to uploadFilesContinue from Python.\n",
              "  outputElement.steps = steps;\n",
              "\n",
              "  return _uploadFilesContinue(outputId);\n",
              "}\n",
              "\n",
              "// This is roughly an async generator (not supported in the browser yet),\n",
              "// where there are multiple asynchronous steps and the Python side is going\n",
              "// to poll for completion of each step.\n",
              "// This uses a Promise to block the python side on completion of each step,\n",
              "// then passes the result of the previous step as the input to the next step.\n",
              "function _uploadFilesContinue(outputId) {\n",
              "  const outputElement = document.getElementById(outputId);\n",
              "  const steps = outputElement.steps;\n",
              "\n",
              "  const next = steps.next(outputElement.lastPromiseValue);\n",
              "  return Promise.resolve(next.value.promise).then((value) => {\n",
              "    // Cache the last promise value to make it available to the next\n",
              "    // step of the generator.\n",
              "    outputElement.lastPromiseValue = value;\n",
              "    return next.value.response;\n",
              "  });\n",
              "}\n",
              "\n",
              "/**\n",
              " * Generator function which is called between each async step of the upload\n",
              " * process.\n",
              " * @param {string} inputId Element ID of the input file picker element.\n",
              " * @param {string} outputId Element ID of the output display.\n",
              " * @return {!Iterable<!Object>} Iterable of next steps.\n",
              " */\n",
              "function* uploadFilesStep(inputId, outputId) {\n",
              "  const inputElement = document.getElementById(inputId);\n",
              "  inputElement.disabled = false;\n",
              "\n",
              "  const outputElement = document.getElementById(outputId);\n",
              "  outputElement.innerHTML = '';\n",
              "\n",
              "  const pickedPromise = new Promise((resolve) => {\n",
              "    inputElement.addEventListener('change', (e) => {\n",
              "      resolve(e.target.files);\n",
              "    });\n",
              "  });\n",
              "\n",
              "  const cancel = document.createElement('button');\n",
              "  inputElement.parentElement.appendChild(cancel);\n",
              "  cancel.textContent = 'Cancel upload';\n",
              "  const cancelPromise = new Promise((resolve) => {\n",
              "    cancel.onclick = () => {\n",
              "      resolve(null);\n",
              "    };\n",
              "  });\n",
              "\n",
              "  // Wait for the user to pick the files.\n",
              "  const files = yield {\n",
              "    promise: Promise.race([pickedPromise, cancelPromise]),\n",
              "    response: {\n",
              "      action: 'starting',\n",
              "    }\n",
              "  };\n",
              "\n",
              "  cancel.remove();\n",
              "\n",
              "  // Disable the input element since further picks are not allowed.\n",
              "  inputElement.disabled = true;\n",
              "\n",
              "  if (!files) {\n",
              "    return {\n",
              "      response: {\n",
              "        action: 'complete',\n",
              "      }\n",
              "    };\n",
              "  }\n",
              "\n",
              "  for (const file of files) {\n",
              "    const li = document.createElement('li');\n",
              "    li.append(span(file.name, {fontWeight: 'bold'}));\n",
              "    li.append(span(\n",
              "        `(${file.type || 'n/a'}) - ${file.size} bytes, ` +\n",
              "        `last modified: ${\n",
              "            file.lastModifiedDate ? file.lastModifiedDate.toLocaleDateString() :\n",
              "                                    'n/a'} - `));\n",
              "    const percent = span('0% done');\n",
              "    li.appendChild(percent);\n",
              "\n",
              "    outputElement.appendChild(li);\n",
              "\n",
              "    const fileDataPromise = new Promise((resolve) => {\n",
              "      const reader = new FileReader();\n",
              "      reader.onload = (e) => {\n",
              "        resolve(e.target.result);\n",
              "      };\n",
              "      reader.readAsArrayBuffer(file);\n",
              "    });\n",
              "    // Wait for the data to be ready.\n",
              "    let fileData = yield {\n",
              "      promise: fileDataPromise,\n",
              "      response: {\n",
              "        action: 'continue',\n",
              "      }\n",
              "    };\n",
              "\n",
              "    // Use a chunked sending to avoid message size limits. See b/62115660.\n",
              "    let position = 0;\n",
              "    do {\n",
              "      const length = Math.min(fileData.byteLength - position, MAX_PAYLOAD_SIZE);\n",
              "      const chunk = new Uint8Array(fileData, position, length);\n",
              "      position += length;\n",
              "\n",
              "      const base64 = btoa(String.fromCharCode.apply(null, chunk));\n",
              "      yield {\n",
              "        response: {\n",
              "          action: 'append',\n",
              "          file: file.name,\n",
              "          data: base64,\n",
              "        },\n",
              "      };\n",
              "\n",
              "      let percentDone = fileData.byteLength === 0 ?\n",
              "          100 :\n",
              "          Math.round((position / fileData.byteLength) * 100);\n",
              "      percent.textContent = `${percentDone}% done`;\n",
              "\n",
              "    } while (position < fileData.byteLength);\n",
              "  }\n",
              "\n",
              "  // All done.\n",
              "  yield {\n",
              "    response: {\n",
              "      action: 'complete',\n",
              "    }\n",
              "  };\n",
              "}\n",
              "\n",
              "scope.google = scope.google || {};\n",
              "scope.google.colab = scope.google.colab || {};\n",
              "scope.google.colab._files = {\n",
              "  _uploadFiles,\n",
              "  _uploadFilesContinue,\n",
              "};\n",
              "})(self);\n",
              "</script> "
            ]
          },
          "metadata": {}
        },
        {
          "output_type": "stream",
          "name": "stdout",
          "text": [
            "Saving autistic+spectrum+disorder+screening+data+for+children.zip to autistic+spectrum+disorder+screening+data+for+children.zip\n",
            "Extracted files: ['Autism-Child-Data.arff', 'Autism-Screening-Child-Data Description.docx']\n"
          ]
        }
      ],
      "source": [
        "from google.colab import files\n",
        "uploaded = files.upload()\n",
        "\n",
        "import zipfile\n",
        "import os\n",
        "\n",
        "zip_path = list(uploaded.keys())[0]  # Automatically uses the uploaded file\n",
        "extract_folder = \"autism_data\"\n",
        "\n",
        "with zipfile.ZipFile(zip_path, 'r') as zip_ref:\n",
        "    zip_ref.extractall(extract_folder)\n",
        "\n",
        "print(\"Extracted files:\", os.listdir(extract_folder))\n"
      ]
    },
    {
      "cell_type": "code",
      "execution_count": null,
      "metadata": {
        "colab": {
          "base_uri": "https://localhost:8080/"
        },
        "id": "NLaPlbBHftgM",
        "outputId": "9a47d50b-a61f-41f5-ea52-c482502ab95c"
      },
      "outputs": [
        {
          "output_type": "stream",
          "name": "stdout",
          "text": [
            "  A1_Score A2_Score A3_Score A4_Score A5_Score A6_Score A7_Score A8_Score  \\\n",
            "0        1        1        0        0        1        1        0        1   \n",
            "1        1        1        0        0        1        1        0        1   \n",
            "2        1        1        0        0        0        1        1        1   \n",
            "3        0        1        0        0        1        1        0        0   \n",
            "4        1        1        1        1        1        1        1        1   \n",
            "\n",
            "  A9_Score A10_Score  ...  gender        ethnicity jundice austim  \\\n",
            "0        0         0  ...       m           Others      no     no   \n",
            "1        0         0  ...       m  Middle Eastern       no     no   \n",
            "2        0         0  ...       m             None      no     no   \n",
            "3        0         1  ...       f             None     yes     no   \n",
            "4        1         1  ...       m           Others     yes     no   \n",
            "\n",
            "   contry_of_res used_app_before result    age_desc relation Class/ASD  \n",
            "0         Jordan              no    5.0  4-11 years   Parent        NO  \n",
            "1         Jordan              no    5.0  4-11 years   Parent        NO  \n",
            "2         Jordan             yes    5.0  4-11 years     None        NO  \n",
            "3         Jordan              no    4.0  4-11 years     None        NO  \n",
            "4  United States              no   10.0  4-11 years   Parent       YES  \n",
            "\n",
            "[5 rows x 21 columns]\n",
            "Warning: Column austim not found in dataset\n"
          ]
        }
      ],
      "source": [
        "arff_file = os.path.join(extract_folder, \"Autism-Child-Data.arff\")  # Adjust if name is different\n",
        "\n",
        "with open(arff_file, \"r\") as f:\n",
        "    data = arff.load(f)\n",
        "\n",
        "df = pd.DataFrame(data['data'], columns=[attr[0].strip() for attr in data['attributes']])\n",
        "print(df.head())\n",
        "\n",
        "# Drop non-essential columns\n",
        "df.drop(['age_desc'], axis=1, errors='ignore', inplace=True)\n",
        "df.drop(['result numeric'], axis=1, errors='ignore', inplace=True)\n",
        "df.drop(['austim'], axis=1, errors='ignore', inplace=True)\n",
        "\n",
        "# Handle missing values\n",
        "df.replace('?', pd.NA, inplace=True)\n",
        "df.dropna(inplace=True)\n",
        "\n",
        "# Convert target labels ('YES' -> 1, 'NO' -> 0)\n",
        "df['Class/ASD'] = df['Class/ASD'].str.strip().map({'YES': 1, 'NO': 0}).astype(int)\n",
        "y = df['Class/ASD']  # Save target before dropping\n",
        "\n",
        "# Apply T-Int Encoding for categorical features\n",
        "categorical_cols = ['gender', 'ethnicity', 'jundice', 'austim', 'contry_of_res', 'used_app_before', 'relation']\n",
        "t_int_encodings = {}\n",
        "\n",
        "for col in categorical_cols:\n",
        "    if col in df.columns:\n",
        "        df[col] = df[col].astype(str).str.strip()\n",
        "        means = df.groupby(col)['Class/ASD'].mean().copy()\n",
        "        df[col] = df[col].map(means)\n",
        "        t_int_encodings[col] = means\n",
        "    else:\n",
        "        print(f\"Warning: Column {col} not found in dataset\")\n",
        "\n",
        "df.drop(columns=['Class/ASD'], inplace=True)  # Drop target column after encoding\n"
      ]
    },
    {
      "cell_type": "code",
      "execution_count": null,
      "metadata": {
        "colab": {
          "base_uri": "https://localhost:8080/"
        },
        "id": "ZYIgdZW5gIlT",
        "outputId": "620a9bb2-85e6-4f81-d19b-9409296de267"
      },
      "outputs": [
        {
          "output_type": "stream",
          "name": "stdout",
          "text": [
            "Training data shape: (148, 18)\n",
            "Validation data shape: (50, 18)\n",
            "Test data shape: (50, 18)\n"
          ]
        }
      ],
      "source": [
        "# Normalize features\n",
        "scaler = StandardScaler()\n",
        "X_scaled = scaler.fit_transform(df)\n",
        "\n",
        "# Split data (60% train, 20% validation, 20% test)\n",
        "X_train, X_temp, y_train, y_temp = train_test_split(X_scaled, y, test_size=0.4, random_state=42)\n",
        "X_val, X_test, y_val, y_test = train_test_split(X_temp, y_temp, test_size=0.5, random_state=42)\n",
        "\n",
        "print(f\"Training data shape: {X_train.shape}\")\n",
        "print(f\"Validation data shape: {X_val.shape}\")\n",
        "print(f\"Test data shape: {X_test.shape}\")\n"
      ]
    },
    {
      "cell_type": "code",
      "execution_count": null,
      "metadata": {
        "colab": {
          "base_uri": "https://localhost:8080/"
        },
        "id": "nuy3HP-IgKMd",
        "outputId": "36f4b0cc-b093-4fa7-8f77-81dfda441670"
      },
      "outputs": [
        {
          "output_type": "stream",
          "name": "stderr",
          "text": [
            "/usr/local/lib/python3.11/dist-packages/keras/src/layers/activations/leaky_relu.py:41: UserWarning: Argument `alpha` is deprecated. Use `negative_slope` instead.\n",
            "  warnings.warn(\n"
          ]
        }
      ],
      "source": [
        "from tensorflow.keras.layers import Dense, Dropout, BatchNormalization, Input, GaussianNoise, LeakyReLU\n",
        "\n",
        "model = keras.Sequential([\n",
        "    Input(shape=(X_train.shape[1],)),\n",
        "    GaussianNoise(0.1),  # adds noise to input\n",
        "\n",
        "    Dense(64, kernel_regularizer=regularizers.l2(0.01)),\n",
        "    LeakyReLU(alpha=0.1),\n",
        "    BatchNormalization(),\n",
        "    Dropout(0.5),\n",
        "\n",
        "    Dense(32, kernel_regularizer=regularizers.l2(0.01)),\n",
        "    LeakyReLU(alpha=0.1),\n",
        "    BatchNormalization(),\n",
        "    Dropout(0.4),\n",
        "\n",
        "    Dense(16, kernel_regularizer=regularizers.l2(0.01)),\n",
        "    LeakyReLU(alpha=0.1),\n",
        "    BatchNormalization(),\n",
        "    Dropout(0.3),\n",
        "\n",
        "    Dense(1, activation='sigmoid')\n",
        "])\n"
      ]
    },
    {
      "cell_type": "code",
      "execution_count": null,
      "metadata": {
        "id": "NOXcwC9YgPSw"
      },
      "outputs": [],
      "source": [
        "# Callbacks\n",
        "early_stopping = EarlyStopping(monitor='val_loss', patience=10, restore_best_weights=True)\n",
        "lr_scheduler = ReduceLROnPlateau(monitor='val_loss', patience=5, factor=0.5, min_lr=1e-6)\n"
      ]
    },
    {
      "cell_type": "code",
      "execution_count": null,
      "metadata": {
        "colab": {
          "base_uri": "https://localhost:8080/"
        },
        "id": "R5QQaRrCgR8-",
        "outputId": "dc12d00c-730e-4fee-c217-0dc52ec2326c"
      },
      "outputs": [
        {
          "output_type": "stream",
          "name": "stdout",
          "text": [
            "Epoch 1/100\n",
            "\u001b[1m5/5\u001b[0m \u001b[32m━━━━━━━━━━━━━━━━━━━━\u001b[0m\u001b[37m\u001b[0m \u001b[1m6s\u001b[0m 103ms/step - accuracy: 0.4351 - loss: 1.8112 - val_accuracy: 0.4800 - val_loss: 1.6428 - learning_rate: 0.0010\n",
            "Epoch 2/100\n",
            "\u001b[1m5/5\u001b[0m \u001b[32m━━━━━━━━━━━━━━━━━━━━\u001b[0m\u001b[37m\u001b[0m \u001b[1m0s\u001b[0m 23ms/step - accuracy: 0.4712 - loss: 1.7893 - val_accuracy: 0.4800 - val_loss: 1.6134 - learning_rate: 0.0010\n",
            "Epoch 3/100\n",
            "\u001b[1m5/5\u001b[0m \u001b[32m━━━━━━━━━━━━━━━━━━━━\u001b[0m\u001b[37m\u001b[0m \u001b[1m0s\u001b[0m 21ms/step - accuracy: 0.5402 - loss: 1.7928 - val_accuracy: 0.5600 - val_loss: 1.5855 - learning_rate: 0.0010\n",
            "Epoch 4/100\n",
            "\u001b[1m5/5\u001b[0m \u001b[32m━━━━━━━━━━━━━━━━━━━━\u001b[0m\u001b[37m\u001b[0m \u001b[1m0s\u001b[0m 21ms/step - accuracy: 0.5789 - loss: 1.6058 - val_accuracy: 0.6200 - val_loss: 1.5591 - learning_rate: 0.0010\n",
            "Epoch 5/100\n",
            "\u001b[1m5/5\u001b[0m \u001b[32m━━━━━━━━━━━━━━━━━━━━\u001b[0m\u001b[37m\u001b[0m \u001b[1m0s\u001b[0m 24ms/step - accuracy: 0.5987 - loss: 1.6656 - val_accuracy: 0.7400 - val_loss: 1.5355 - learning_rate: 0.0010\n",
            "Epoch 6/100\n",
            "\u001b[1m5/5\u001b[0m \u001b[32m━━━━━━━━━━━━━━━━━━━━\u001b[0m\u001b[37m\u001b[0m \u001b[1m0s\u001b[0m 21ms/step - accuracy: 0.5895 - loss: 1.6370 - val_accuracy: 0.7600 - val_loss: 1.5138 - learning_rate: 0.0010\n",
            "Epoch 7/100\n",
            "\u001b[1m5/5\u001b[0m \u001b[32m━━━━━━━━━━━━━━━━━━━━\u001b[0m\u001b[37m\u001b[0m \u001b[1m0s\u001b[0m 21ms/step - accuracy: 0.6951 - loss: 1.5142 - val_accuracy: 0.7600 - val_loss: 1.4923 - learning_rate: 0.0010\n",
            "Epoch 8/100\n",
            "\u001b[1m5/5\u001b[0m \u001b[32m━━━━━━━━━━━━━━━━━━━━\u001b[0m\u001b[37m\u001b[0m \u001b[1m0s\u001b[0m 22ms/step - accuracy: 0.7448 - loss: 1.3803 - val_accuracy: 0.7600 - val_loss: 1.4709 - learning_rate: 0.0010\n",
            "Epoch 9/100\n",
            "\u001b[1m5/5\u001b[0m \u001b[32m━━━━━━━━━━━━━━━━━━━━\u001b[0m\u001b[37m\u001b[0m \u001b[1m0s\u001b[0m 21ms/step - accuracy: 0.7138 - loss: 1.3838 - val_accuracy: 0.8000 - val_loss: 1.4496 - learning_rate: 0.0010\n",
            "Epoch 10/100\n",
            "\u001b[1m5/5\u001b[0m \u001b[32m━━━━━━━━━━━━━━━━━━━━\u001b[0m\u001b[37m\u001b[0m \u001b[1m0s\u001b[0m 22ms/step - accuracy: 0.7441 - loss: 1.4088 - val_accuracy: 0.8000 - val_loss: 1.4280 - learning_rate: 0.0010\n",
            "Epoch 11/100\n",
            "\u001b[1m5/5\u001b[0m \u001b[32m━━━━━━━━━━━━━━━━━━━━\u001b[0m\u001b[37m\u001b[0m \u001b[1m0s\u001b[0m 21ms/step - accuracy: 0.7677 - loss: 1.3366 - val_accuracy: 0.8000 - val_loss: 1.4063 - learning_rate: 0.0010\n",
            "Epoch 12/100\n",
            "\u001b[1m5/5\u001b[0m \u001b[32m━━━━━━━━━━━━━━━━━━━━\u001b[0m\u001b[37m\u001b[0m \u001b[1m0s\u001b[0m 21ms/step - accuracy: 0.7099 - loss: 1.3617 - val_accuracy: 0.8000 - val_loss: 1.3837 - learning_rate: 0.0010\n",
            "Epoch 13/100\n",
            "\u001b[1m5/5\u001b[0m \u001b[32m━━━━━━━━━━━━━━━━━━━━\u001b[0m\u001b[37m\u001b[0m \u001b[1m0s\u001b[0m 32ms/step - accuracy: 0.7561 - loss: 1.3509 - val_accuracy: 0.8000 - val_loss: 1.3594 - learning_rate: 0.0010\n",
            "Epoch 14/100\n",
            "\u001b[1m5/5\u001b[0m \u001b[32m━━━━━━━━━━━━━━━━━━━━\u001b[0m\u001b[37m\u001b[0m \u001b[1m0s\u001b[0m 22ms/step - accuracy: 0.6934 - loss: 1.3869 - val_accuracy: 0.8000 - val_loss: 1.3340 - learning_rate: 0.0010\n",
            "Epoch 15/100\n",
            "\u001b[1m5/5\u001b[0m \u001b[32m━━━━━━━━━━━━━━━━━━━━\u001b[0m\u001b[37m\u001b[0m \u001b[1m0s\u001b[0m 21ms/step - accuracy: 0.7601 - loss: 1.2762 - val_accuracy: 0.8400 - val_loss: 1.3100 - learning_rate: 0.0010\n",
            "Epoch 16/100\n",
            "\u001b[1m5/5\u001b[0m \u001b[32m━━━━━━━━━━━━━━━━━━━━\u001b[0m\u001b[37m\u001b[0m \u001b[1m0s\u001b[0m 22ms/step - accuracy: 0.7521 - loss: 1.2817 - val_accuracy: 0.8200 - val_loss: 1.2869 - learning_rate: 0.0010\n",
            "Epoch 17/100\n",
            "\u001b[1m5/5\u001b[0m \u001b[32m━━━━━━━━━━━━━━━━━━━━\u001b[0m\u001b[37m\u001b[0m \u001b[1m0s\u001b[0m 21ms/step - accuracy: 0.8343 - loss: 1.2239 - val_accuracy: 0.8200 - val_loss: 1.2635 - learning_rate: 0.0010\n",
            "Epoch 18/100\n",
            "\u001b[1m5/5\u001b[0m \u001b[32m━━━━━━━━━━━━━━━━━━━━\u001b[0m\u001b[37m\u001b[0m \u001b[1m0s\u001b[0m 21ms/step - accuracy: 0.8646 - loss: 1.2068 - val_accuracy: 0.8200 - val_loss: 1.2405 - learning_rate: 0.0010\n",
            "Epoch 19/100\n",
            "\u001b[1m5/5\u001b[0m \u001b[32m━━━━━━━━━━━━━━━━━━━━\u001b[0m\u001b[37m\u001b[0m \u001b[1m0s\u001b[0m 21ms/step - accuracy: 0.9230 - loss: 1.1043 - val_accuracy: 0.8400 - val_loss: 1.2179 - learning_rate: 0.0010\n",
            "Epoch 20/100\n",
            "\u001b[1m5/5\u001b[0m \u001b[32m━━━━━━━━━━━━━━━━━━━━\u001b[0m\u001b[37m\u001b[0m \u001b[1m0s\u001b[0m 21ms/step - accuracy: 0.8417 - loss: 1.1487 - val_accuracy: 0.8400 - val_loss: 1.1961 - learning_rate: 0.0010\n",
            "Epoch 21/100\n",
            "\u001b[1m5/5\u001b[0m \u001b[32m━━━━━━━━━━━━━━━━━━━━\u001b[0m\u001b[37m\u001b[0m \u001b[1m0s\u001b[0m 25ms/step - accuracy: 0.7644 - loss: 1.2072 - val_accuracy: 0.8400 - val_loss: 1.1746 - learning_rate: 0.0010\n",
            "Epoch 22/100\n",
            "\u001b[1m5/5\u001b[0m \u001b[32m━━━━━━━━━━━━━━━━━━━━\u001b[0m\u001b[37m\u001b[0m \u001b[1m0s\u001b[0m 22ms/step - accuracy: 0.8571 - loss: 1.1286 - val_accuracy: 0.8400 - val_loss: 1.1549 - learning_rate: 0.0010\n",
            "Epoch 23/100\n",
            "\u001b[1m5/5\u001b[0m \u001b[32m━━━━━━━━━━━━━━━━━━━━\u001b[0m\u001b[37m\u001b[0m \u001b[1m0s\u001b[0m 22ms/step - accuracy: 0.8564 - loss: 1.0793 - val_accuracy: 0.8400 - val_loss: 1.1362 - learning_rate: 0.0010\n",
            "Epoch 24/100\n",
            "\u001b[1m5/5\u001b[0m \u001b[32m━━━━━━━━━━━━━━━━━━━━\u001b[0m\u001b[37m\u001b[0m \u001b[1m0s\u001b[0m 21ms/step - accuracy: 0.8852 - loss: 1.0795 - val_accuracy: 0.8400 - val_loss: 1.1181 - learning_rate: 0.0010\n",
            "Epoch 25/100\n",
            "\u001b[1m5/5\u001b[0m \u001b[32m━━━━━━━━━━━━━━━━━━━━\u001b[0m\u001b[37m\u001b[0m \u001b[1m0s\u001b[0m 22ms/step - accuracy: 0.8578 - loss: 1.0820 - val_accuracy: 0.8600 - val_loss: 1.1024 - learning_rate: 0.0010\n",
            "Epoch 26/100\n",
            "\u001b[1m5/5\u001b[0m \u001b[32m━━━━━━━━━━━━━━━━━━━━\u001b[0m\u001b[37m\u001b[0m \u001b[1m0s\u001b[0m 22ms/step - accuracy: 0.9015 - loss: 1.0190 - val_accuracy: 0.8600 - val_loss: 1.0873 - learning_rate: 0.0010\n",
            "Epoch 27/100\n",
            "\u001b[1m5/5\u001b[0m \u001b[32m━━━━━━━━━━━━━━━━━━━━\u001b[0m\u001b[37m\u001b[0m \u001b[1m0s\u001b[0m 22ms/step - accuracy: 0.8346 - loss: 1.0780 - val_accuracy: 0.8800 - val_loss: 1.0715 - learning_rate: 0.0010\n",
            "Epoch 28/100\n",
            "\u001b[1m5/5\u001b[0m \u001b[32m━━━━━━━━━━━━━━━━━━━━\u001b[0m\u001b[37m\u001b[0m \u001b[1m0s\u001b[0m 31ms/step - accuracy: 0.8639 - loss: 1.0398 - val_accuracy: 0.8800 - val_loss: 1.0575 - learning_rate: 0.0010\n",
            "Epoch 29/100\n",
            "\u001b[1m5/5\u001b[0m \u001b[32m━━━━━━━━━━━━━━━━━━━━\u001b[0m\u001b[37m\u001b[0m \u001b[1m0s\u001b[0m 23ms/step - accuracy: 0.8601 - loss: 1.0592 - val_accuracy: 0.8800 - val_loss: 1.0432 - learning_rate: 0.0010\n",
            "Epoch 30/100\n",
            "\u001b[1m5/5\u001b[0m \u001b[32m━━━━━━━━━━━━━━━━━━━━\u001b[0m\u001b[37m\u001b[0m \u001b[1m0s\u001b[0m 21ms/step - accuracy: 0.9138 - loss: 0.9886 - val_accuracy: 0.8800 - val_loss: 1.0285 - learning_rate: 0.0010\n",
            "Epoch 31/100\n",
            "\u001b[1m5/5\u001b[0m \u001b[32m━━━━━━━━━━━━━━━━━━━━\u001b[0m\u001b[37m\u001b[0m \u001b[1m0s\u001b[0m 22ms/step - accuracy: 0.8942 - loss: 0.9915 - val_accuracy: 0.8800 - val_loss: 1.0150 - learning_rate: 0.0010\n",
            "Epoch 32/100\n",
            "\u001b[1m5/5\u001b[0m \u001b[32m━━━━━━━━━━━━━━━━━━━━\u001b[0m\u001b[37m\u001b[0m \u001b[1m0s\u001b[0m 22ms/step - accuracy: 0.8991 - loss: 0.9697 - val_accuracy: 0.8800 - val_loss: 1.0017 - learning_rate: 0.0010\n",
            "Epoch 33/100\n",
            "\u001b[1m5/5\u001b[0m \u001b[32m━━━━━━━━━━━━━━━━━━━━\u001b[0m\u001b[37m\u001b[0m \u001b[1m0s\u001b[0m 21ms/step - accuracy: 0.8760 - loss: 1.0239 - val_accuracy: 0.8800 - val_loss: 0.9906 - learning_rate: 0.0010\n",
            "Epoch 34/100\n",
            "\u001b[1m5/5\u001b[0m \u001b[32m━━━━━━━━━━━━━━━━━━━━\u001b[0m\u001b[37m\u001b[0m \u001b[1m0s\u001b[0m 21ms/step - accuracy: 0.8769 - loss: 0.9636 - val_accuracy: 0.8800 - val_loss: 0.9797 - learning_rate: 0.0010\n",
            "Epoch 35/100\n",
            "\u001b[1m5/5\u001b[0m \u001b[32m━━━━━━━━━━━━━━━━━━━━\u001b[0m\u001b[37m\u001b[0m \u001b[1m0s\u001b[0m 21ms/step - accuracy: 0.9172 - loss: 0.9459 - val_accuracy: 0.8800 - val_loss: 0.9681 - learning_rate: 0.0010\n",
            "Epoch 36/100\n",
            "\u001b[1m5/5\u001b[0m \u001b[32m━━━━━━━━━━━━━━━━━━━━\u001b[0m\u001b[37m\u001b[0m \u001b[1m0s\u001b[0m 40ms/step - accuracy: 0.8727 - loss: 0.9556 - val_accuracy: 0.8800 - val_loss: 0.9557 - learning_rate: 0.0010\n",
            "Epoch 37/100\n",
            "\u001b[1m5/5\u001b[0m \u001b[32m━━━━━━━━━━━━━━━━━━━━\u001b[0m\u001b[37m\u001b[0m \u001b[1m0s\u001b[0m 32ms/step - accuracy: 0.8752 - loss: 0.9829 - val_accuracy: 0.8800 - val_loss: 0.9432 - learning_rate: 0.0010\n",
            "Epoch 38/100\n",
            "\u001b[1m5/5\u001b[0m \u001b[32m━━━━━━━━━━━━━━━━━━━━\u001b[0m\u001b[37m\u001b[0m \u001b[1m0s\u001b[0m 31ms/step - accuracy: 0.9402 - loss: 0.8992 - val_accuracy: 0.8800 - val_loss: 0.9308 - learning_rate: 0.0010\n",
            "Epoch 39/100\n",
            "\u001b[1m5/5\u001b[0m \u001b[32m━━━━━━━━━━━━━━━━━━━━\u001b[0m\u001b[37m\u001b[0m \u001b[1m0s\u001b[0m 29ms/step - accuracy: 0.8916 - loss: 0.9323 - val_accuracy: 0.8800 - val_loss: 0.9180 - learning_rate: 0.0010\n",
            "Epoch 40/100\n",
            "\u001b[1m5/5\u001b[0m \u001b[32m━━━━━━━━━━━━━━━━━━━━\u001b[0m\u001b[37m\u001b[0m \u001b[1m0s\u001b[0m 37ms/step - accuracy: 0.9620 - loss: 0.8231 - val_accuracy: 0.8800 - val_loss: 0.9056 - learning_rate: 0.0010\n",
            "Epoch 41/100\n",
            "\u001b[1m5/5\u001b[0m \u001b[32m━━━━━━━━━━━━━━━━━━━━\u001b[0m\u001b[37m\u001b[0m \u001b[1m0s\u001b[0m 42ms/step - accuracy: 0.8760 - loss: 0.8929 - val_accuracy: 0.9000 - val_loss: 0.8934 - learning_rate: 0.0010\n",
            "Epoch 42/100\n",
            "\u001b[1m5/5\u001b[0m \u001b[32m━━━━━━━━━━━━━━━━━━━━\u001b[0m\u001b[37m\u001b[0m \u001b[1m0s\u001b[0m 40ms/step - accuracy: 0.8724 - loss: 0.9461 - val_accuracy: 0.9000 - val_loss: 0.8814 - learning_rate: 0.0010\n",
            "Epoch 43/100\n",
            "\u001b[1m5/5\u001b[0m \u001b[32m━━━━━━━━━━━━━━━━━━━━\u001b[0m\u001b[37m\u001b[0m \u001b[1m0s\u001b[0m 40ms/step - accuracy: 0.9372 - loss: 0.8413 - val_accuracy: 0.9000 - val_loss: 0.8692 - learning_rate: 0.0010\n",
            "Epoch 44/100\n",
            "\u001b[1m5/5\u001b[0m \u001b[32m━━━━━━━━━━━━━━━━━━━━\u001b[0m\u001b[37m\u001b[0m \u001b[1m0s\u001b[0m 41ms/step - accuracy: 0.9150 - loss: 0.8694 - val_accuracy: 0.9000 - val_loss: 0.8579 - learning_rate: 0.0010\n",
            "Epoch 45/100\n",
            "\u001b[1m5/5\u001b[0m \u001b[32m━━━━━━━━━━━━━━━━━━━━\u001b[0m\u001b[37m\u001b[0m \u001b[1m0s\u001b[0m 22ms/step - accuracy: 0.9327 - loss: 0.8334 - val_accuracy: 0.9000 - val_loss: 0.8467 - learning_rate: 0.0010\n",
            "Epoch 46/100\n",
            "\u001b[1m5/5\u001b[0m \u001b[32m━━━━━━━━━━━━━━━━━━━━\u001b[0m\u001b[37m\u001b[0m \u001b[1m0s\u001b[0m 22ms/step - accuracy: 0.9472 - loss: 0.8000 - val_accuracy: 0.9000 - val_loss: 0.8360 - learning_rate: 0.0010\n",
            "Epoch 47/100\n",
            "\u001b[1m5/5\u001b[0m \u001b[32m━━━━━━━━━━━━━━━━━━━━\u001b[0m\u001b[37m\u001b[0m \u001b[1m0s\u001b[0m 23ms/step - accuracy: 0.9132 - loss: 0.8147 - val_accuracy: 0.9000 - val_loss: 0.8253 - learning_rate: 0.0010\n",
            "Epoch 48/100\n",
            "\u001b[1m5/5\u001b[0m \u001b[32m━━━━━━━━━━━━━━━━━━━━\u001b[0m\u001b[37m\u001b[0m \u001b[1m0s\u001b[0m 22ms/step - accuracy: 0.9312 - loss: 0.8460 - val_accuracy: 0.9000 - val_loss: 0.8161 - learning_rate: 0.0010\n",
            "Epoch 49/100\n",
            "\u001b[1m5/5\u001b[0m \u001b[32m━━━━━━━━━━━━━━━━━━━━\u001b[0m\u001b[37m\u001b[0m \u001b[1m0s\u001b[0m 21ms/step - accuracy: 0.9447 - loss: 0.7924 - val_accuracy: 0.9000 - val_loss: 0.8058 - learning_rate: 0.0010\n",
            "Epoch 50/100\n",
            "\u001b[1m5/5\u001b[0m \u001b[32m━━━━━━━━━━━━━━━━━━━━\u001b[0m\u001b[37m\u001b[0m \u001b[1m0s\u001b[0m 21ms/step - accuracy: 0.9226 - loss: 0.7954 - val_accuracy: 0.9000 - val_loss: 0.7963 - learning_rate: 0.0010\n",
            "Epoch 51/100\n",
            "\u001b[1m5/5\u001b[0m \u001b[32m━━━━━━━━━━━━━━━━━━━━\u001b[0m\u001b[37m\u001b[0m \u001b[1m0s\u001b[0m 22ms/step - accuracy: 0.9396 - loss: 0.7831 - val_accuracy: 0.9000 - val_loss: 0.7850 - learning_rate: 0.0010\n",
            "Epoch 52/100\n",
            "\u001b[1m5/5\u001b[0m \u001b[32m━━━━━━━━━━━━━━━━━━━━\u001b[0m\u001b[37m\u001b[0m \u001b[1m0s\u001b[0m 31ms/step - accuracy: 0.9635 - loss: 0.7668 - val_accuracy: 0.9000 - val_loss: 0.7749 - learning_rate: 0.0010\n",
            "Epoch 53/100\n",
            "\u001b[1m5/5\u001b[0m \u001b[32m━━━━━━━━━━━━━━━━━━━━\u001b[0m\u001b[37m\u001b[0m \u001b[1m0s\u001b[0m 22ms/step - accuracy: 0.9840 - loss: 0.7018 - val_accuracy: 0.9000 - val_loss: 0.7650 - learning_rate: 0.0010\n",
            "Epoch 54/100\n",
            "\u001b[1m5/5\u001b[0m \u001b[32m━━━━━━━━━━━━━━━━━━━━\u001b[0m\u001b[37m\u001b[0m \u001b[1m0s\u001b[0m 22ms/step - accuracy: 0.9591 - loss: 0.7433 - val_accuracy: 0.9000 - val_loss: 0.7552 - learning_rate: 0.0010\n",
            "Epoch 55/100\n",
            "\u001b[1m5/5\u001b[0m \u001b[32m━━━━━━━━━━━━━━━━━━━━\u001b[0m\u001b[37m\u001b[0m \u001b[1m0s\u001b[0m 23ms/step - accuracy: 0.9517 - loss: 0.7255 - val_accuracy: 0.9000 - val_loss: 0.7471 - learning_rate: 0.0010\n",
            "Epoch 56/100\n",
            "\u001b[1m5/5\u001b[0m \u001b[32m━━━━━━━━━━━━━━━━━━━━\u001b[0m\u001b[37m\u001b[0m \u001b[1m0s\u001b[0m 22ms/step - accuracy: 0.9017 - loss: 0.7786 - val_accuracy: 0.9000 - val_loss: 0.7380 - learning_rate: 0.0010\n",
            "Epoch 57/100\n",
            "\u001b[1m5/5\u001b[0m \u001b[32m━━━━━━━━━━━━━━━━━━━━\u001b[0m\u001b[37m\u001b[0m \u001b[1m0s\u001b[0m 21ms/step - accuracy: 0.9530 - loss: 0.6973 - val_accuracy: 0.9200 - val_loss: 0.7287 - learning_rate: 0.0010\n",
            "Epoch 58/100\n",
            "\u001b[1m5/5\u001b[0m \u001b[32m━━━━━━━━━━━━━━━━━━━━\u001b[0m\u001b[37m\u001b[0m \u001b[1m0s\u001b[0m 22ms/step - accuracy: 0.9547 - loss: 0.6909 - val_accuracy: 0.9000 - val_loss: 0.7208 - learning_rate: 0.0010\n",
            "Epoch 59/100\n",
            "\u001b[1m5/5\u001b[0m \u001b[32m━━━━━━━━━━━━━━━━━━━━\u001b[0m\u001b[37m\u001b[0m \u001b[1m0s\u001b[0m 23ms/step - accuracy: 0.9679 - loss: 0.6584 - val_accuracy: 0.9200 - val_loss: 0.7124 - learning_rate: 0.0010\n",
            "Epoch 60/100\n",
            "\u001b[1m5/5\u001b[0m \u001b[32m━━━━━━━━━━━━━━━━━━━━\u001b[0m\u001b[37m\u001b[0m \u001b[1m0s\u001b[0m 26ms/step - accuracy: 0.9447 - loss: 0.7076 - val_accuracy: 0.9400 - val_loss: 0.7045 - learning_rate: 0.0010\n",
            "Epoch 61/100\n",
            "\u001b[1m5/5\u001b[0m \u001b[32m━━━━━━━━━━━━━━━━━━━━\u001b[0m\u001b[37m\u001b[0m \u001b[1m0s\u001b[0m 22ms/step - accuracy: 0.9402 - loss: 0.6755 - val_accuracy: 0.9400 - val_loss: 0.6972 - learning_rate: 0.0010\n",
            "Epoch 62/100\n",
            "\u001b[1m5/5\u001b[0m \u001b[32m━━━━━━━━━━━━━━━━━━━━\u001b[0m\u001b[37m\u001b[0m \u001b[1m0s\u001b[0m 21ms/step - accuracy: 0.8798 - loss: 0.8166 - val_accuracy: 0.9400 - val_loss: 0.6887 - learning_rate: 0.0010\n",
            "Epoch 63/100\n",
            "\u001b[1m5/5\u001b[0m \u001b[32m━━━━━━━━━━━━━━━━━━━━\u001b[0m\u001b[37m\u001b[0m \u001b[1m0s\u001b[0m 21ms/step - accuracy: 0.9546 - loss: 0.6708 - val_accuracy: 0.9400 - val_loss: 0.6817 - learning_rate: 0.0010\n",
            "Epoch 64/100\n",
            "\u001b[1m5/5\u001b[0m \u001b[32m━━━━━━━━━━━━━━━━━━━━\u001b[0m\u001b[37m\u001b[0m \u001b[1m0s\u001b[0m 22ms/step - accuracy: 0.9158 - loss: 0.6853 - val_accuracy: 0.9600 - val_loss: 0.6743 - learning_rate: 0.0010\n",
            "Epoch 65/100\n",
            "\u001b[1m5/5\u001b[0m \u001b[32m━━━━━━━━━━━━━━━━━━━━\u001b[0m\u001b[37m\u001b[0m \u001b[1m0s\u001b[0m 22ms/step - accuracy: 0.9517 - loss: 0.6963 - val_accuracy: 0.9600 - val_loss: 0.6660 - learning_rate: 0.0010\n",
            "Epoch 66/100\n",
            "\u001b[1m5/5\u001b[0m \u001b[32m━━━━━━━━━━━━━━━━━━━━\u001b[0m\u001b[37m\u001b[0m \u001b[1m0s\u001b[0m 21ms/step - accuracy: 0.9853 - loss: 0.6217 - val_accuracy: 0.9800 - val_loss: 0.6573 - learning_rate: 0.0010\n",
            "Epoch 67/100\n",
            "\u001b[1m5/5\u001b[0m \u001b[32m━━━━━━━━━━━━━━━━━━━━\u001b[0m\u001b[37m\u001b[0m \u001b[1m0s\u001b[0m 22ms/step - accuracy: 0.9567 - loss: 0.6410 - val_accuracy: 0.9800 - val_loss: 0.6488 - learning_rate: 0.0010\n",
            "Epoch 68/100\n",
            "\u001b[1m5/5\u001b[0m \u001b[32m━━━━━━━━━━━━━━━━━━━━\u001b[0m\u001b[37m\u001b[0m \u001b[1m0s\u001b[0m 31ms/step - accuracy: 0.9115 - loss: 0.6939 - val_accuracy: 0.9800 - val_loss: 0.6417 - learning_rate: 0.0010\n",
            "Epoch 69/100\n",
            "\u001b[1m5/5\u001b[0m \u001b[32m━━━━━━━━━━━━━━━━━━━━\u001b[0m\u001b[37m\u001b[0m \u001b[1m0s\u001b[0m 21ms/step - accuracy: 0.9263 - loss: 0.6783 - val_accuracy: 0.9800 - val_loss: 0.6338 - learning_rate: 0.0010\n",
            "Epoch 70/100\n",
            "\u001b[1m5/5\u001b[0m \u001b[32m━━━━━━━━━━━━━━━━━━━━\u001b[0m\u001b[37m\u001b[0m \u001b[1m0s\u001b[0m 21ms/step - accuracy: 0.9687 - loss: 0.6120 - val_accuracy: 0.9800 - val_loss: 0.6258 - learning_rate: 0.0010\n",
            "Epoch 71/100\n",
            "\u001b[1m5/5\u001b[0m \u001b[32m━━━━━━━━━━━━━━━━━━━━\u001b[0m\u001b[37m\u001b[0m \u001b[1m0s\u001b[0m 21ms/step - accuracy: 0.9473 - loss: 0.6132 - val_accuracy: 0.9800 - val_loss: 0.6184 - learning_rate: 0.0010\n",
            "Epoch 72/100\n",
            "\u001b[1m5/5\u001b[0m \u001b[32m━━━━━━━━━━━━━━━━━━━━\u001b[0m\u001b[37m\u001b[0m \u001b[1m0s\u001b[0m 21ms/step - accuracy: 0.9797 - loss: 0.5650 - val_accuracy: 0.9800 - val_loss: 0.6106 - learning_rate: 0.0010\n",
            "Epoch 73/100\n",
            "\u001b[1m5/5\u001b[0m \u001b[32m━━━━━━━━━━━━━━━━━━━━\u001b[0m\u001b[37m\u001b[0m \u001b[1m0s\u001b[0m 21ms/step - accuracy: 0.9794 - loss: 0.5700 - val_accuracy: 0.9800 - val_loss: 0.6028 - learning_rate: 0.0010\n",
            "Epoch 74/100\n",
            "\u001b[1m5/5\u001b[0m \u001b[32m━━━━━━━━━━━━━━━━━━━━\u001b[0m\u001b[37m\u001b[0m \u001b[1m0s\u001b[0m 21ms/step - accuracy: 0.9005 - loss: 0.7092 - val_accuracy: 0.9800 - val_loss: 0.5965 - learning_rate: 0.0010\n",
            "Epoch 75/100\n",
            "\u001b[1m5/5\u001b[0m \u001b[32m━━━━━━━━━━━━━━━━━━━━\u001b[0m\u001b[37m\u001b[0m \u001b[1m0s\u001b[0m 24ms/step - accuracy: 0.9621 - loss: 0.5779 - val_accuracy: 0.9800 - val_loss: 0.5897 - learning_rate: 0.0010\n",
            "Epoch 76/100\n",
            "\u001b[1m5/5\u001b[0m \u001b[32m━━━━━━━━━━━━━━━━━━━━\u001b[0m\u001b[37m\u001b[0m \u001b[1m0s\u001b[0m 21ms/step - accuracy: 0.9796 - loss: 0.5591 - val_accuracy: 0.9800 - val_loss: 0.5826 - learning_rate: 0.0010\n",
            "Epoch 77/100\n",
            "\u001b[1m5/5\u001b[0m \u001b[32m━━━━━━━━━━━━━━━━━━━━\u001b[0m\u001b[37m\u001b[0m \u001b[1m0s\u001b[0m 23ms/step - accuracy: 0.9797 - loss: 0.5721 - val_accuracy: 0.9800 - val_loss: 0.5759 - learning_rate: 0.0010\n",
            "Epoch 78/100\n",
            "\u001b[1m5/5\u001b[0m \u001b[32m━━━━━━━━━━━━━━━━━━━━\u001b[0m\u001b[37m\u001b[0m \u001b[1m0s\u001b[0m 21ms/step - accuracy: 0.9608 - loss: 0.5568 - val_accuracy: 0.9800 - val_loss: 0.5690 - learning_rate: 0.0010\n",
            "Epoch 79/100\n",
            "\u001b[1m5/5\u001b[0m \u001b[32m━━━━━━━━━━━━━━━━━━━━\u001b[0m\u001b[37m\u001b[0m \u001b[1m0s\u001b[0m 20ms/step - accuracy: 0.9565 - loss: 0.5627 - val_accuracy: 0.9800 - val_loss: 0.5620 - learning_rate: 0.0010\n",
            "Epoch 80/100\n",
            "\u001b[1m5/5\u001b[0m \u001b[32m━━━━━━━━━━━━━━━━━━━━\u001b[0m\u001b[37m\u001b[0m \u001b[1m0s\u001b[0m 21ms/step - accuracy: 0.9775 - loss: 0.5202 - val_accuracy: 0.9800 - val_loss: 0.5554 - learning_rate: 0.0010\n",
            "Epoch 81/100\n",
            "\u001b[1m5/5\u001b[0m \u001b[32m━━━━━━━━━━━━━━━━━━━━\u001b[0m\u001b[37m\u001b[0m \u001b[1m0s\u001b[0m 22ms/step - accuracy: 0.9758 - loss: 0.5342 - val_accuracy: 0.9800 - val_loss: 0.5481 - learning_rate: 0.0010\n",
            "Epoch 82/100\n",
            "\u001b[1m5/5\u001b[0m \u001b[32m━━━━━━━━━━━━━━━━━━━━\u001b[0m\u001b[37m\u001b[0m \u001b[1m0s\u001b[0m 21ms/step - accuracy: 0.9947 - loss: 0.5079 - val_accuracy: 0.9800 - val_loss: 0.5405 - learning_rate: 0.0010\n",
            "Epoch 83/100\n",
            "\u001b[1m5/5\u001b[0m \u001b[32m━━━━━━━━━━━━━━━━━━━━\u001b[0m\u001b[37m\u001b[0m \u001b[1m0s\u001b[0m 25ms/step - accuracy: 0.9657 - loss: 0.5541 - val_accuracy: 0.9800 - val_loss: 0.5336 - learning_rate: 0.0010\n",
            "Epoch 84/100\n",
            "\u001b[1m5/5\u001b[0m \u001b[32m━━━━━━━━━━━━━━━━━━━━\u001b[0m\u001b[37m\u001b[0m \u001b[1m0s\u001b[0m 21ms/step - accuracy: 0.9689 - loss: 0.5400 - val_accuracy: 0.9800 - val_loss: 0.5253 - learning_rate: 0.0010\n",
            "Epoch 85/100\n",
            "\u001b[1m5/5\u001b[0m \u001b[32m━━━━━━━━━━━━━━━━━━━━\u001b[0m\u001b[37m\u001b[0m \u001b[1m0s\u001b[0m 21ms/step - accuracy: 0.9869 - loss: 0.4986 - val_accuracy: 0.9800 - val_loss: 0.5188 - learning_rate: 0.0010\n",
            "Epoch 86/100\n",
            "\u001b[1m5/5\u001b[0m \u001b[32m━━━━━━━━━━━━━━━━━━━━\u001b[0m\u001b[37m\u001b[0m \u001b[1m0s\u001b[0m 21ms/step - accuracy: 0.9256 - loss: 0.6220 - val_accuracy: 0.9800 - val_loss: 0.5129 - learning_rate: 0.0010\n",
            "Epoch 87/100\n",
            "\u001b[1m5/5\u001b[0m \u001b[32m━━━━━━━━━━━━━━━━━━━━\u001b[0m\u001b[37m\u001b[0m \u001b[1m0s\u001b[0m 21ms/step - accuracy: 0.9816 - loss: 0.4947 - val_accuracy: 0.9800 - val_loss: 0.5071 - learning_rate: 0.0010\n",
            "Epoch 88/100\n",
            "\u001b[1m5/5\u001b[0m \u001b[32m━━━━━━━━━━━━━━━━━━━━\u001b[0m\u001b[37m\u001b[0m \u001b[1m0s\u001b[0m 21ms/step - accuracy: 0.9486 - loss: 0.5414 - val_accuracy: 0.9800 - val_loss: 0.5007 - learning_rate: 0.0010\n",
            "Epoch 89/100\n",
            "\u001b[1m5/5\u001b[0m \u001b[32m━━━━━━━━━━━━━━━━━━━━\u001b[0m\u001b[37m\u001b[0m \u001b[1m0s\u001b[0m 21ms/step - accuracy: 0.9460 - loss: 0.5218 - val_accuracy: 0.9800 - val_loss: 0.4958 - learning_rate: 0.0010\n",
            "Epoch 90/100\n",
            "\u001b[1m5/5\u001b[0m \u001b[32m━━━━━━━━━━━━━━━━━━━━\u001b[0m\u001b[37m\u001b[0m \u001b[1m0s\u001b[0m 22ms/step - accuracy: 0.9929 - loss: 0.4643 - val_accuracy: 0.9800 - val_loss: 0.4901 - learning_rate: 0.0010\n",
            "Epoch 91/100\n",
            "\u001b[1m5/5\u001b[0m \u001b[32m━━━━━━━━━━━━━━━━━━━━\u001b[0m\u001b[37m\u001b[0m \u001b[1m0s\u001b[0m 27ms/step - accuracy: 0.8744 - loss: 0.7193 - val_accuracy: 0.9800 - val_loss: 0.4862 - learning_rate: 0.0010\n",
            "Epoch 92/100\n",
            "\u001b[1m5/5\u001b[0m \u001b[32m━━━━━━━━━━━━━━━━━━━━\u001b[0m\u001b[37m\u001b[0m \u001b[1m0s\u001b[0m 21ms/step - accuracy: 0.9889 - loss: 0.4506 - val_accuracy: 0.9800 - val_loss: 0.4815 - learning_rate: 0.0010\n",
            "Epoch 93/100\n",
            "\u001b[1m5/5\u001b[0m \u001b[32m━━━━━━━━━━━━━━━━━━━━\u001b[0m\u001b[37m\u001b[0m \u001b[1m0s\u001b[0m 21ms/step - accuracy: 0.9269 - loss: 0.5657 - val_accuracy: 0.9800 - val_loss: 0.4771 - learning_rate: 0.0010\n",
            "Epoch 94/100\n",
            "\u001b[1m5/5\u001b[0m \u001b[32m━━━━━━━━━━━━━━━━━━━━\u001b[0m\u001b[37m\u001b[0m \u001b[1m0s\u001b[0m 23ms/step - accuracy: 0.9549 - loss: 0.5002 - val_accuracy: 0.9800 - val_loss: 0.4738 - learning_rate: 0.0010\n",
            "Epoch 95/100\n",
            "\u001b[1m5/5\u001b[0m \u001b[32m━━━━━━━━━━━━━━━━━━━━\u001b[0m\u001b[37m\u001b[0m \u001b[1m0s\u001b[0m 21ms/step - accuracy: 0.9899 - loss: 0.4502 - val_accuracy: 0.9800 - val_loss: 0.4687 - learning_rate: 0.0010\n",
            "Epoch 96/100\n",
            "\u001b[1m5/5\u001b[0m \u001b[32m━━━━━━━━━━━━━━━━━━━━\u001b[0m\u001b[37m\u001b[0m \u001b[1m0s\u001b[0m 21ms/step - accuracy: 0.9942 - loss: 0.4392 - val_accuracy: 0.9800 - val_loss: 0.4640 - learning_rate: 0.0010\n",
            "Epoch 97/100\n",
            "\u001b[1m5/5\u001b[0m \u001b[32m━━━━━━━━━━━━━━━━━━━━\u001b[0m\u001b[37m\u001b[0m \u001b[1m0s\u001b[0m 32ms/step - accuracy: 0.9816 - loss: 0.4393 - val_accuracy: 0.9800 - val_loss: 0.4599 - learning_rate: 0.0010\n",
            "Epoch 98/100\n",
            "\u001b[1m5/5\u001b[0m \u001b[32m━━━━━━━━━━━━━━━━━━━━\u001b[0m\u001b[37m\u001b[0m \u001b[1m0s\u001b[0m 21ms/step - accuracy: 0.9824 - loss: 0.4172 - val_accuracy: 0.9800 - val_loss: 0.4548 - learning_rate: 0.0010\n",
            "Epoch 99/100\n",
            "\u001b[1m5/5\u001b[0m \u001b[32m━━━━━━━━━━━━━━━━━━━━\u001b[0m\u001b[37m\u001b[0m \u001b[1m0s\u001b[0m 22ms/step - accuracy: 0.9657 - loss: 0.4526 - val_accuracy: 0.9800 - val_loss: 0.4486 - learning_rate: 0.0010\n",
            "Epoch 100/100\n",
            "\u001b[1m5/5\u001b[0m \u001b[32m━━━━━━━━━━━━━━━━━━━━\u001b[0m\u001b[37m\u001b[0m \u001b[1m0s\u001b[0m 21ms/step - accuracy: 0.9674 - loss: 0.4486 - val_accuracy: 0.9800 - val_loss: 0.4418 - learning_rate: 0.0010\n"
          ]
        }
      ],
      "source": [
        "# Train the model\n",
        "# Compile the model\n",
        "model.compile(optimizer='adam', loss='binary_crossentropy', metrics=['accuracy'])\n",
        "history = model.fit(X_train, y_train, validation_data=(X_val, y_val), epochs=100, batch_size=32, callbacks=[early_stopping, lr_scheduler])\n"
      ]
    },
    {
      "cell_type": "code",
      "execution_count": null,
      "metadata": {
        "colab": {
          "base_uri": "https://localhost:8080/"
        },
        "id": "TqJXifcagTPD",
        "outputId": "9e6805af-0a15-4402-9ac2-8b637cf5a737"
      },
      "outputs": [
        {
          "output_type": "stream",
          "name": "stdout",
          "text": [
            "\u001b[1m2/2\u001b[0m \u001b[32m━━━━━━━━━━━━━━━━━━━━\u001b[0m\u001b[37m\u001b[0m \u001b[1m1s\u001b[0m 322ms/step\n",
            "Validation Metrics:\n",
            "Accuracy: 0.9800\n",
            "Precision: 0.9600\n",
            "Recall: 1.0000\n",
            "F1 Score: 0.9796\n"
          ]
        }
      ],
      "source": [
        "# Evaluate model on validation set\n",
        "y_val_pred = (model.predict(X_val) > 0.5).astype(\"int32\")\n",
        "val_accuracy = accuracy_score(y_val, y_val_pred)\n",
        "val_precision = precision_score(y_val, y_val_pred)\n",
        "val_recall = recall_score(y_val, y_val_pred)\n",
        "val_f1 = f1_score(y_val, y_val_pred)\n",
        "\n",
        "print(\"Validation Metrics:\")\n",
        "print(f\"Accuracy: {val_accuracy:.4f}\")\n",
        "print(f\"Precision: {val_precision:.4f}\")\n",
        "print(f\"Recall: {val_recall:.4f}\")\n",
        "print(f\"F1 Score: {val_f1:.4f}\")\n",
        "\n"
      ]
    },
    {
      "cell_type": "code",
      "execution_count": null,
      "metadata": {
        "colab": {
          "base_uri": "https://localhost:8080/"
        },
        "id": "nu0U878ggnBe",
        "outputId": "be18ad34-65cb-418d-cd01-44baa9883493"
      },
      "outputs": [
        {
          "output_type": "stream",
          "name": "stdout",
          "text": [
            "\u001b[1m2/2\u001b[0m \u001b[32m━━━━━━━━━━━━━━━━━━━━\u001b[0m\u001b[37m\u001b[0m \u001b[1m0s\u001b[0m 23ms/step\n",
            "\n",
            "Test Metrics:\n",
            "Accuracy: 1.0000\n",
            "Precision: 1.0000\n",
            "Recall: 1.0000\n",
            "F1 Score: 1.0000\n"
          ]
        }
      ],
      "source": [
        "#Evaluate model on test set\n",
        "y_test_pred = (model.predict(X_test) > 0.5).astype(\"int32\")\n",
        "test_accuracy = accuracy_score(y_test, y_test_pred)\n",
        "test_precision = precision_score(y_test, y_test_pred)\n",
        "test_recall = recall_score(y_test, y_test_pred)\n",
        "test_f1 = f1_score(y_test, y_test_pred)\n",
        "\n",
        "print(\"\\nTest Metrics:\")\n",
        "print(f\"Accuracy: {test_accuracy:.4f}\")\n",
        "print(f\"Precision: {test_precision:.4f}\")\n",
        "print(f\"Recall: {test_recall:.4f}\")\n",
        "print(f\"F1 Score: {test_f1:.4f}\")\n"
      ]
    },
    {
      "cell_type": "code",
      "execution_count": null,
      "metadata": {
        "colab": {
          "base_uri": "https://localhost:8080/",
          "height": 459
        },
        "id": "Qj2yu_uShY5Z",
        "outputId": "bc7fb226-0724-428f-9dfc-11dea5d0f51a"
      },
      "outputs": [
        {
          "output_type": "display_data",
          "data": {
            "text/plain": [
              "<Figure size 1200x500 with 2 Axes>"
            ],
            "image/png": "[encoded data removed]"
          },
          "metadata": {}
        }
      ],
      "source": [
        "# Plot results\n",
        "plt.figure(figsize=(12, 5))\n",
        "plt.subplot(1, 2, 1)\n",
        "plt.plot(history.history['accuracy'], label='Train Accuracy')\n",
        "plt.plot(history.history['val_accuracy'], label='Validation Accuracy')\n",
        "plt.xlabel('Epochs')\n",
        "plt.ylabel('Accuracy')\n",
        "plt.legend()\n",
        "plt.title('Model Accuracy')\n",
        "\n",
        "plt.subplot(1, 2, 2)\n",
        "plt.plot(history.history['loss'], label='Train Loss')\n",
        "plt.plot(history.history['val_loss'], label='Validation Loss')\n",
        "plt.xlabel('Epochs')\n",
        "plt.ylabel('Loss')\n",
        "plt.legend()\n",
        "plt.title('Model Loss')\n",
        "\n",
        "plt.show()\n"
      ]
    },
    {
      "cell_type": "code",
      "execution_count": null,
      "metadata": {
        "colab": {
          "base_uri": "https://localhost:8080/"
        },
        "id": "xAtBFXdzhaMd",
        "outputId": "080ff683-3e6b-46a6-d7a4-ccf47bc1d6a2"
      },
      "outputs": [
        {
          "output_type": "stream",
          "name": "stderr",
          "text": [
            "WARNING:absl:You are saving your model as an HDF5 file via `model.save()` or `keras.saving.save_model(model)`. This file format is considered legacy. We recommend using instead the native Keras format, e.g. `model.save('my_model.keras')` or `keras.saving.save_model(model, 'my_model.keras')`. \n"
          ]
        },
        {
          "output_type": "stream",
          "name": "stdout",
          "text": [
            "Model, scaler, and encodings saved successfully!\n"
          ]
        }
      ],
      "source": [
        "# Save model, scaler, and encodings\n",
        "model.save(\"autism_model.h5\")\n",
        "joblib.dump(scaler, \"scaler.pkl\")\n",
        "joblib.dump(t_int_encodings, \"t_int_encodings.pkl\")\n",
        "print(\"Model, scaler, and encodings saved successfully!\")\n"
      ]
    },
    {
      "cell_type": "code",
      "execution_count": null,
      "metadata": {
        "colab": {
          "base_uri": "https://localhost:8080/"
        },
        "id": "bhP5bxHkh5vE",
        "outputId": "ed08a1af-e655-4eef-a2b0-9c8ebff994d9"
      },
      "outputs": [
        {
          "output_type": "stream",
          "name": "stdout",
          "text": [
            "Training accuracy per epoch: [0.4797297418117523, 0.5202702879905701, 0.5540540814399719, 0.6013513803482056, 0.6554054021835327, 0.6148648858070374, 0.6959459185600281, 0.75, 0.7364864945411682, 0.7635135054588318, 0.7770270109176636, 0.7364864945411682, 0.75, 0.7027027010917664, 0.7635135054588318, 0.7770270109176636, 0.8310810923576355, 0.8581081032752991, 0.912162184715271, 0.8648648858070374, 0.7905405163764954, 0.8445945978164673, 0.8243243098258972, 0.8716216087341309, 0.8716216087341309, 0.8918918967247009, 0.8513513803482056, 0.8716216087341309, 0.8783783912658691, 0.9054054021835327, 0.8986486196517944, 0.912162184715271, 0.9054054021835327, 0.9054054021835327, 0.8986486196517944, 0.8851351141929626, 0.8716216087341309, 0.9391891956329346, 0.8986486196517944, 0.9459459185600281, 0.9054054021835327, 0.8918918967247009, 0.9391891956329346, 0.8986486196517944, 0.9256756901741028, 0.9391891956329346, 0.9256756901741028, 0.912162184715271, 0.9459459185600281, 0.9189189076423645, 0.9594594836235046, 0.9594594836235046, 0.9729729890823364, 0.9527027010917664, 0.9527027010917664, 0.8783783912658691, 0.9527027010917664, 0.9527027010917664, 0.9662162065505981, 0.9459459185600281, 0.9324324131011963, 0.8581081032752991, 0.9459459185600281, 0.9256756901741028, 0.9527027010917664, 0.9729729890823364, 0.9391891956329346, 0.9324324131011963, 0.9391891956329346, 0.9594594836235046, 0.9459459185600281, 0.9729729890823364, 0.9797297120094299, 0.9189189076423645, 0.9527027010917664, 0.9662162065505981, 0.9729729890823364, 0.9527027010917664, 0.9527027010917664, 0.9662162065505981, 0.9729729890823364, 0.9932432174682617, 0.9594594836235046, 0.9729729890823364, 0.9932432174682617, 0.9459459185600281, 0.9864864945411682, 0.9527027010917664, 0.9527027010917664, 0.9864864945411682, 0.912162184715271, 0.9797297120094299, 0.912162184715271, 0.9662162065505981, 0.9864864945411682, 0.9864864945411682, 0.9864864945411682, 0.9797297120094299, 0.9594594836235046, 0.9594594836235046]\n"
          ]
        }
      ],
      "source": [
        "# Access training accuracy history\n",
        "train_accuracy = history.history['accuracy']\n",
        "\n",
        "# Display the training accuracy for each epoch\n",
        "print(\"Training accuracy per epoch:\", train_accuracy)\n"
      ]
    },
    {
      "cell_type": "code",
      "execution_count": null,
      "metadata": {
        "colab": {
          "background_save": true
        },
        "id": "33O_aL8qqpsq"
      },
      "outputs": [],
      "source": []
    }
  ],
  "metadata": {
    "colab": {
      "provenance": []
    },
    "kernelspec": {
      "display_name": "Python 3",
      "name": "python3"
    },
    "language_info": {
      "name": "python"
    }
  },
  "nbformat": 4,
  "nbformat_minor": 0
}