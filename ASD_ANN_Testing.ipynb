{
  "nbformat": 4,
  "nbformat_minor": 0,
  "metadata": {
    "colab": {
      "provenance": []
    },
    "kernelspec": {
      "name": "python3",
      "display_name": "Python 3"
    },
    "language_info": {
      "name": "python"
    }
  },
  "cells": [
    {
      "cell_type": "markdown",
      "source": [
        "# Import Required Libraries\n"
      ],
      "metadata": {
        "id": "OLo4ldZ3ZYJt"
      }
    },
    {
      "cell_type": "code",
      "execution_count": null,
      "metadata": {
        "id": "oJUBhrDyYpcV"
      },
      "outputs": [],
      "source": [
        "import numpy as np\n",
        "import pandas as pd\n",
        "import joblib\n",
        "from tensorflow.keras.models import load_model\n"
      ]
    },
    {
      "cell_type": "markdown",
      "source": [
        "# Load Saved Files"
      ],
      "metadata": {
        "id": "VMGpGqdGZhtd"
      }
    },
    {
      "cell_type": "code",
      "source": [
        "# Load trained model\n",
        "model = load_model(\"autism_model.h5\")\n",
        "\n",
        "# Load scaler and encodings\n",
        "scaler = joblib.load(\"scaler.pkl\")\n",
        "t_int_encodings = joblib.load(\"t_int_encodings.pkl\")\n"
      ],
      "metadata": {
        "colab": {
          "base_uri": "https://localhost:8080/"
        },
        "id": "-dBlvQ1cZjeY",
        "outputId": "3d39454d-1736-47aa-df20-78777222748f"
      },
      "execution_count": null,
      "outputs": [
        {
          "output_type": "stream",
          "name": "stderr",
          "text": [
            "WARNING:absl:Compiled the loaded model, but the compiled metrics have yet to be built. `model.compile_metrics` will be empty until you train or evaluate the model.\n"
          ]
        }
      ]
    },
    {
      "cell_type": "markdown",
      "source": [
        "# Prepare a New Input Sample"
      ],
      "metadata": {
        "id": "B-x7viVNZlE8"
      }
    },
    {
      "cell_type": "code",
      "source": [
        "# Prepare a New Input Sample\n",
        "new_sample = {\n",
        "    'A1_Score': 1,\n",
        "    'A2_Score': 1,\n",
        "    'A3_Score': 1,\n",
        "    'A4_Score': 1,\n",
        "    'A5_Score': 1,\n",
        "    'A6_Score': 1,\n",
        "    'A7_Score': 1,\n",
        "    'A8_Score': 1,\n",
        "    'A9_Score': 1,\n",
        "    'A10_Score': 1,\n",
        "    'age': 5,\n",
        "    'gender': 'male',\n",
        "    'ethnicity': 'White-European',\n",
        "    'jundice': 'yes',\n",
        "    'contry_of_res': 'United States',\n",
        "    'used_app_before': 'no',\n",
        "    'result': 10,\n",
        "    'relation': 'Parent'\n",
        "}\n"
      ],
      "metadata": {
        "id": "BJMJO-5lZtqJ"
      },
      "execution_count": null,
      "outputs": []
    },
    {
      "cell_type": "markdown",
      "source": [
        "# Apply T-Int Encoding to Categorical Columns"
      ],
      "metadata": {
        "id": "PXDlQ572ZvEc"
      }
    },
    {
      "cell_type": "code",
      "source": [
        "# Convert to DataFrame\n",
        "new_df = pd.DataFrame([new_sample])\n",
        "\n",
        "categorical_cols = ['gender', 'ethnicity', 'jundice', 'contry_of_res', 'used_app_before', 'relation']\n",
        "\n",
        "# Strip spaces and apply T-Int encoding\n",
        "for col in categorical_cols:\n",
        "    new_df[col] = new_df[col].astype(str).str.strip()\n",
        "    new_df[col] = new_df[col].map(t_int_encodings[col])\n"
      ],
      "metadata": {
        "id": "UL1QjbnsZyGB"
      },
      "execution_count": null,
      "outputs": []
    },
    {
      "cell_type": "code",
      "source": [
        "print(\"Check for NaNs after encoding:\\n\", new_df.isna().sum())\n"
      ],
      "metadata": {
        "colab": {
          "base_uri": "https://localhost:8080/"
        },
        "id": "3DdSjjD4bbjd",
        "outputId": "6f42af7e-c585-48ab-86e8-51d40899ce14"
      },
      "execution_count": null,
      "outputs": [
        {
          "output_type": "stream",
          "name": "stdout",
          "text": [
            "Check for NaNs after encoding:\n",
            " A1_Score           0\n",
            "A2_Score           0\n",
            "A3_Score           0\n",
            "A4_Score           0\n",
            "A5_Score           0\n",
            "A6_Score           0\n",
            "A7_Score           0\n",
            "A8_Score           0\n",
            "A9_Score           0\n",
            "A10_Score          0\n",
            "age                0\n",
            "gender             1\n",
            "ethnicity          0\n",
            "jundice            0\n",
            "contry_of_res      0\n",
            "used_app_before    0\n",
            "result             0\n",
            "relation           0\n",
            "dtype: int64\n"
          ]
        }
      ]
    },
    {
      "cell_type": "code",
      "source": [
        "for col in categorical_cols:\n",
        "    new_df[col] = new_df[col].astype(str).str.strip()\n",
        "    new_df[col] = new_df[col].map(t_int_encodings[col])\n",
        "    # Handle unseen categories\n",
        "    if new_df[col].isna().any():\n",
        "        print(f\"Unseen value in column: {col}, filling with mean.\")\n",
        "        new_df[col].fillna(t_int_encodings[col].mean(), inplace=True)\n"
      ],
      "metadata": {
        "colab": {
          "base_uri": "https://localhost:8080/"
        },
        "id": "rCwGxIX1bfIE",
        "outputId": "cdae65bf-c560-4ef9-f6b7-8468cac72837"
      },
      "execution_count": null,
      "outputs": [
        {
          "output_type": "stream",
          "name": "stdout",
          "text": [
            "Unseen value in column: gender, filling with mean.\n",
            "Unseen value in column: ethnicity, filling with mean.\n",
            "Unseen value in column: jundice, filling with mean.\n",
            "Unseen value in column: contry_of_res, filling with mean.\n",
            "Unseen value in column: used_app_before, filling with mean.\n",
            "Unseen value in column: relation, filling with mean.\n"
          ]
        },
        {
          "output_type": "stream",
          "name": "stderr",
          "text": [
            "<ipython-input-17-45f46bb9dbc2>:7: FutureWarning: A value is trying to be set on a copy of a DataFrame or Series through chained assignment using an inplace method.\n",
            "The behavior will change in pandas 3.0. This inplace method will never work because the intermediate object on which we are setting values always behaves as a copy.\n",
            "\n",
            "For example, when doing 'df[col].method(value, inplace=True)', try using 'df.method({col: value}, inplace=True)' or df[col] = df[col].method(value) instead, to perform the operation inplace on the original object.\n",
            "\n",
            "\n",
            "  new_df[col].fillna(t_int_encodings[col].mean(), inplace=True)\n",
            "<ipython-input-17-45f46bb9dbc2>:7: FutureWarning: A value is trying to be set on a copy of a DataFrame or Series through chained assignment using an inplace method.\n",
            "The behavior will change in pandas 3.0. This inplace method will never work because the intermediate object on which we are setting values always behaves as a copy.\n",
            "\n",
            "For example, when doing 'df[col].method(value, inplace=True)', try using 'df.method({col: value}, inplace=True)' or df[col] = df[col].method(value) instead, to perform the operation inplace on the original object.\n",
            "\n",
            "\n",
            "  new_df[col].fillna(t_int_encodings[col].mean(), inplace=True)\n",
            "<ipython-input-17-45f46bb9dbc2>:7: FutureWarning: A value is trying to be set on a copy of a DataFrame or Series through chained assignment using an inplace method.\n",
            "The behavior will change in pandas 3.0. This inplace method will never work because the intermediate object on which we are setting values always behaves as a copy.\n",
            "\n",
            "For example, when doing 'df[col].method(value, inplace=True)', try using 'df.method({col: value}, inplace=True)' or df[col] = df[col].method(value) instead, to perform the operation inplace on the original object.\n",
            "\n",
            "\n",
            "  new_df[col].fillna(t_int_encodings[col].mean(), inplace=True)\n",
            "<ipython-input-17-45f46bb9dbc2>:7: FutureWarning: A value is trying to be set on a copy of a DataFrame or Series through chained assignment using an inplace method.\n",
            "The behavior will change in pandas 3.0. This inplace method will never work because the intermediate object on which we are setting values always behaves as a copy.\n",
            "\n",
            "For example, when doing 'df[col].method(value, inplace=True)', try using 'df.method({col: value}, inplace=True)' or df[col] = df[col].method(value) instead, to perform the operation inplace on the original object.\n",
            "\n",
            "\n",
            "  new_df[col].fillna(t_int_encodings[col].mean(), inplace=True)\n",
            "<ipython-input-17-45f46bb9dbc2>:7: FutureWarning: A value is trying to be set on a copy of a DataFrame or Series through chained assignment using an inplace method.\n",
            "The behavior will change in pandas 3.0. This inplace method will never work because the intermediate object on which we are setting values always behaves as a copy.\n",
            "\n",
            "For example, when doing 'df[col].method(value, inplace=True)', try using 'df.method({col: value}, inplace=True)' or df[col] = df[col].method(value) instead, to perform the operation inplace on the original object.\n",
            "\n",
            "\n",
            "  new_df[col].fillna(t_int_encodings[col].mean(), inplace=True)\n",
            "<ipython-input-17-45f46bb9dbc2>:7: FutureWarning: A value is trying to be set on a copy of a DataFrame or Series through chained assignment using an inplace method.\n",
            "The behavior will change in pandas 3.0. This inplace method will never work because the intermediate object on which we are setting values always behaves as a copy.\n",
            "\n",
            "For example, when doing 'df[col].method(value, inplace=True)', try using 'df.method({col: value}, inplace=True)' or df[col] = df[col].method(value) instead, to perform the operation inplace on the original object.\n",
            "\n",
            "\n",
            "  new_df[col].fillna(t_int_encodings[col].mean(), inplace=True)\n"
          ]
        }
      ]
    },
    {
      "cell_type": "code",
      "source": [
        "# # Remove 'result' column as it's not used for prediction\n",
        "# new_df = new_df.drop(columns=['result numeric'])\n",
        "\n",
        "# Check for any remaining NaNs before prediction\n",
        "if new_df.isna().any().any():\n",
        "    print(\"Still has NaNs, please check input carefully.\")\n",
        "else:\n",
        "    X_new_scaled = scaler.transform(new_df)\n",
        "    prediction = model.predict(X_new_scaled)\n",
        "    predicted_class = int(prediction[0][0] > 0.5)\n",
        "\n",
        "    print(\"Predicted ASD Class:\", \"ASD\" if predicted_class == 1 else \"No ASD\")\n",
        "    print(\"Probability Score:\", float(prediction[0][0]))\n"
      ],
      "metadata": {
        "colab": {
          "base_uri": "https://localhost:8080/"
        },
        "id": "L92cLV4Kbj0U",
        "outputId": "7a4489f7-5a5f-4018-c427-499d5bb2ff73"
      },
      "execution_count": null,
      "outputs": [
        {
          "output_type": "stream",
          "name": "stdout",
          "text": [
            "\u001b[1m1/1\u001b[0m \u001b[32m━━━━━━━━━━━━━━━━━━━━\u001b[0m\u001b[37m\u001b[0m \u001b[1m0s\u001b[0m 48ms/step\n",
            "Predicted ASD Class: ASD\n",
            "Probability Score: 0.9984903335571289\n"
          ]
        }
      ]
    }
  ]
}